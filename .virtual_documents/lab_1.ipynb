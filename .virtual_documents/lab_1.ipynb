import pandas as pd
from sklearn.preprocessing import MinMaxScaler, StandardScaler


df = pd.read_csv("./spaceship-titanic/train.csv")


df.head(100)


df.dtypes


nan_matrix = df.isnull()
nan_matrix.sum()


homeplanet_mode = df['HomePlanet'].mode()[0]
cryosleep_mode = df['CryoSleep'].mode()[0]
cabin_mode = df['Cabin'].mode()[0]
destination_mode = df['Destination'].mode()[0]
age_mean = df['Age'].mean()
vip_mode = df['VIP'].mode()[0]
foodcourt_median = df['FoodCourt'].median()
roomservice_median = df['RoomService'].median()
shoppingmall_median = df['ShoppingMall'].median()
spa_median = df['Spa'].median()
vrdeck_median = df['VRDeck'].median()
name_mode = df['Name'].mode()[0]

df['HomePlanet'].fillna(homeplanet_mode, inplace=True)
df['CryoSleep'].fillna(cryosleep_mode, inplace=True)
df['Cabin'].fillna(cabin_mode, inplace=True)
df['Destination'].fillna(destination_mode, inplace=True)
df['Age'].fillna(age_mean, inplace=True)
df['VIP'].fillna(vip_mode, inplace=True)
df['FoodCourt'].fillna(foodcourt_median, inplace=True)
df['RoomService'].fillna(roomservice_median, inplace=True)
df['ShoppingMall'].fillna(shoppingmall_median, inplace=True)
df['Spa'].fillna(spa_median, inplace=True)
df['VRDeck'].fillna(vrdeck_median, inplace=True)
df['Name'].fillna(name_mode, inplace=True)


nan_matrix = df.isnull()
nan_matrix.sum()


scaler = MinMaxScaler()
df['Age'] = scaler.fit_transform(pd.DataFrame(df['Age']))
df['RoomService'] = scaler.fit_transform(pd.DataFrame(df['RoomService']))
df['FoodCourt'] = scaler.fit_transform(pd.DataFrame(df['FoodCourt']))
df['ShoppingMall'] = scaler.fit_transform(pd.DataFrame(df['ShoppingMall']))
df['Spa'] = scaler.fit_transform(pd.DataFrame(df['Spa']))
df['VRDeck'] = scaler.fit_transform(pd.DataFrame(df['VRDeck']))

df = pd.get_dummies(df, columns=['HomePlanet', 'Destination'], drop_first= True)


df


df.to_csv("processed_titanic.csv", index=False)



